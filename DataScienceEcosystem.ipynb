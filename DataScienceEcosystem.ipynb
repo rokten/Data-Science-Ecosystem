{
  "nbformat": 4,
  "nbformat_minor": 0,
  "metadata": {
    "colab": {
      "provenance": []
    },
    "kernelspec": {
      "name": "python3",
      "display_name": "Python 3"
    },
    "language_info": {
      "name": "python"
    }
  },
  "cells": [
    {
      "cell_type": "markdown",
      "source": [
        "# Data Science Tools and Ecosystem\n"
      ],
      "metadata": {
        "id": "dWfeCWtiWe4d"
      }
    },
    {
      "cell_type": "markdown",
      "source": [
        "In this notebook, Data Science Tools and Ecosystem are summarized."
      ],
      "metadata": {
        "id": "T55PZP1rcge0"
      }
    },
    {
      "cell_type": "markdown",
      "source": [
        "**Objectives:**  \n",
        "- List popular languages for Data Science  \n",
        "- Identify commonly used libraries in Data Science  \n",
        "- Present Data Science tools in a table  \n",
        "- Perform arithmetic operations in Python  \n"
      ],
      "metadata": {
        "id": "dauigSX5gCST"
      }
    },
    {
      "cell_type": "markdown",
      "source": [
        "Some of the popular languages that Data Scientists use are:\n",
        "- Python  \n",
        "- R  \n",
        "- SQL  \n",
        "- Julia  \n",
        "- Scala  \n"
      ],
      "metadata": {
        "id": "KvjZxSHqczPX"
      }
    },
    {
      "cell_type": "markdown",
      "source": [
        "Some of the commonly used libraries used by Data Scientists include:\n",
        "- Pandas  \n",
        "- NumPy  \n",
        "- Matplotlib  \n",
        "- Scikit-learn  \n",
        "- TensorFlow  "
      ],
      "metadata": {
        "id": "bE2cvfRtdEDM"
      }
    },
    {
      "cell_type": "markdown",
      "source": [
        "| Data Science Tools |\n",
        "|--------------------|\n",
        "| Jupyter Notebook  |\n",
        "| RStudio          |\n",
        "| Apache Zeppelin  |\n"
      ],
      "metadata": {
        "id": "BV3-q9wjdmIG"
      }
    },
    {
      "cell_type": "markdown",
      "source": [
        "### Below are a few examples of evaluating arithmetic expressions in Python.\n",
        "- **Addition:** `2 + 3 = 5`  \n",
        "- **Subtraction:** `10 - 4 = 6`  \n",
        "- **Multiplication:** `3 * 3 = 9`  \n",
        "- **Division:** `12 / 3 = 4.0`  \n"
      ],
      "metadata": {
        "id": "6Md-FD5TeEZl"
      }
    },
    {
      "cell_type": "code",
      "source": [
        "# This is a simple arithmetic expression to multiply then add integers\n",
        "(3*4)+5\n"
      ],
      "metadata": {
        "colab": {
          "base_uri": "https://localhost:8080/"
        },
        "id": "rEOHhq7Devm3",
        "outputId": "6a856217-05ed-4bd7-e84e-0ccf7d50dd3a"
      },
      "execution_count": 3,
      "outputs": [
        {
          "output_type": "execute_result",
          "data": {
            "text/plain": [
              "17"
            ]
          },
          "metadata": {},
          "execution_count": 3
        }
      ]
    },
    {
      "cell_type": "code",
      "source": [
        "# This will convert 200 minutes to hours by dividing by 60\n",
        "200 / 60\n"
      ],
      "metadata": {
        "colab": {
          "base_uri": "https://localhost:8080/"
        },
        "id": "8WXcD8Eyfeva",
        "outputId": "89c97122-0ad1-4eca-c875-9d20d00a4b7d"
      },
      "execution_count": 4,
      "outputs": [
        {
          "output_type": "execute_result",
          "data": {
            "text/plain": [
              "3.3333333333333335"
            ]
          },
          "metadata": {},
          "execution_count": 4
        }
      ]
    },
    {
      "cell_type": "markdown",
      "source": [
        "## Author  \n",
        "Fernando Alberto Valenzuela Mardones\n"
      ],
      "metadata": {
        "id": "AzUaAXS0gfr8"
      }
    }
  ]
}